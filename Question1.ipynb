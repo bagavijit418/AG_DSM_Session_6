{
 "cells": [
  {
   "cell_type": "raw",
   "metadata": {},
   "source": [
    "Write a function so that the columns of the output matrix are powers of the input\n",
    "vector.\n",
    "The order of the powers is determined by the increasing boolean argument. Specifically,\n",
    "when increasing is False, the i-th output column is the input vector raised element-wise\n",
    "to the power of N - i - 1."
   ]
  },
  {
   "cell_type": "code",
   "execution_count": 1,
   "metadata": {},
   "outputs": [],
   "source": [
    "import numpy as np"
   ]
  },
  {
   "cell_type": "code",
   "execution_count": 25,
   "metadata": {},
   "outputs": [],
   "source": [
    "def custom_vander(inp_arr,exp,increasing=False):\n",
    "    #transpose the matrix\n",
    "    arr_T=inp_arr.reshape(1,inp_arr.shape[0]).transpose()\n",
    "    #set values in case of decreasing\n",
    "    start,step,end=exp,-1,0  \n",
    "    #set values in case of decreasing\n",
    "    if increasing:\n",
    "        start,step,end=1,1,exp+1\n",
    "    #set first value in out_result\n",
    "    out_result=arr_T**start\n",
    "    #now skip first iteration, hence start+step\n",
    "    for i in range(start+step,end,step):\n",
    "        out_result=np.concatenate((out_result,arr_T**i),axis=1)\n",
    "    return out_result"
   ]
  },
  {
   "cell_type": "code",
   "execution_count": 30,
   "metadata": {},
   "outputs": [
    {
     "name": "stdout",
     "output_type": "stream",
     "text": [
      "Input Array is :\n",
      " [1 2 4 5]\n",
      "Vander matrix in increasing order where N= 3 :\n",
      " [[  1   1   1]\n",
      " [  2   4   8]\n",
      " [  4  16  64]\n",
      " [  5  25 125]]\n",
      "Vander matrix in decreasing order where N= 3 :\n",
      " [[  1   1   1]\n",
      " [  8   4   2]\n",
      " [ 64  16   4]\n",
      " [125  25   5]]\n"
     ]
    }
   ],
   "source": [
    "arr=np.array([1,2,4,5])\n",
    "N=3\n",
    "print(\"Input Array is :\\n\",arr)\n",
    "print(\"Vander matrix in increasing order where N=\",N,\":\\n\",custom_vander(arr,3,increasing=True))\n",
    "print(\"Vander matrix in decreasing order where N=\",N,\":\\n\",custom_vander(arr,3,increasing=False))\n"
   ]
  }
 ],
 "metadata": {
  "kernelspec": {
   "display_name": "Python 3",
   "language": "python",
   "name": "python3"
  },
  "language_info": {
   "codemirror_mode": {
    "name": "ipython",
    "version": 3
   },
   "file_extension": ".py",
   "mimetype": "text/x-python",
   "name": "python",
   "nbconvert_exporter": "python",
   "pygments_lexer": "ipython3",
   "version": "3.6.4"
  }
 },
 "nbformat": 4,
 "nbformat_minor": 2
}
